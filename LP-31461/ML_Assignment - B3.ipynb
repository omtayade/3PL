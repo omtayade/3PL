{
 "cells": [
  {
   "cell_type": "code",
   "execution_count": 1,
   "metadata": {},
   "outputs": [],
   "source": [
    "import numpy as np\n",
    "import matplotlib.pyplot as plt\n",
    "import pandas as pd\n",
    "import seaborn as sns\n",
    "sns.set()"
   ]
  },
  {
   "cell_type": "code",
   "execution_count": 2,
   "metadata": {},
   "outputs": [
    {
     "data": {
      "text/html": [
       "<div>\n",
       "<style scoped>\n",
       "    .dataframe tbody tr th:only-of-type {\n",
       "        vertical-align: middle;\n",
       "    }\n",
       "\n",
       "    .dataframe tbody tr th {\n",
       "        vertical-align: top;\n",
       "    }\n",
       "\n",
       "    .dataframe thead th {\n",
       "        text-align: right;\n",
       "    }\n",
       "</style>\n",
       "<table border=\"1\" class=\"dataframe\">\n",
       "  <thead>\n",
       "    <tr style=\"text-align: right;\">\n",
       "      <th></th>\n",
       "      <th>CustomerId</th>\n",
       "      <th>Surname</th>\n",
       "      <th>CreditScore</th>\n",
       "      <th>Geography</th>\n",
       "      <th>Gender</th>\n",
       "      <th>Age</th>\n",
       "      <th>Tenure</th>\n",
       "      <th>Balance</th>\n",
       "      <th>NumOfProducts</th>\n",
       "      <th>HasCrCard</th>\n",
       "      <th>IsActiveMember</th>\n",
       "      <th>EstimatedSalary</th>\n",
       "      <th>Exited</th>\n",
       "    </tr>\n",
       "    <tr>\n",
       "      <th>RowNumber</th>\n",
       "      <th></th>\n",
       "      <th></th>\n",
       "      <th></th>\n",
       "      <th></th>\n",
       "      <th></th>\n",
       "      <th></th>\n",
       "      <th></th>\n",
       "      <th></th>\n",
       "      <th></th>\n",
       "      <th></th>\n",
       "      <th></th>\n",
       "      <th></th>\n",
       "      <th></th>\n",
       "    </tr>\n",
       "  </thead>\n",
       "  <tbody>\n",
       "    <tr>\n",
       "      <th>1</th>\n",
       "      <td>15634602</td>\n",
       "      <td>Hargrave</td>\n",
       "      <td>619</td>\n",
       "      <td>France</td>\n",
       "      <td>Female</td>\n",
       "      <td>42</td>\n",
       "      <td>2</td>\n",
       "      <td>0.00</td>\n",
       "      <td>1</td>\n",
       "      <td>1</td>\n",
       "      <td>1</td>\n",
       "      <td>101348.88</td>\n",
       "      <td>1</td>\n",
       "    </tr>\n",
       "    <tr>\n",
       "      <th>2</th>\n",
       "      <td>15647311</td>\n",
       "      <td>Hill</td>\n",
       "      <td>608</td>\n",
       "      <td>Spain</td>\n",
       "      <td>Female</td>\n",
       "      <td>41</td>\n",
       "      <td>1</td>\n",
       "      <td>83807.86</td>\n",
       "      <td>1</td>\n",
       "      <td>0</td>\n",
       "      <td>1</td>\n",
       "      <td>112542.58</td>\n",
       "      <td>0</td>\n",
       "    </tr>\n",
       "    <tr>\n",
       "      <th>3</th>\n",
       "      <td>15619304</td>\n",
       "      <td>Onio</td>\n",
       "      <td>502</td>\n",
       "      <td>France</td>\n",
       "      <td>Female</td>\n",
       "      <td>42</td>\n",
       "      <td>8</td>\n",
       "      <td>159660.80</td>\n",
       "      <td>3</td>\n",
       "      <td>1</td>\n",
       "      <td>0</td>\n",
       "      <td>113931.57</td>\n",
       "      <td>1</td>\n",
       "    </tr>\n",
       "    <tr>\n",
       "      <th>4</th>\n",
       "      <td>15701354</td>\n",
       "      <td>Boni</td>\n",
       "      <td>699</td>\n",
       "      <td>France</td>\n",
       "      <td>Female</td>\n",
       "      <td>39</td>\n",
       "      <td>1</td>\n",
       "      <td>0.00</td>\n",
       "      <td>2</td>\n",
       "      <td>0</td>\n",
       "      <td>0</td>\n",
       "      <td>93826.63</td>\n",
       "      <td>0</td>\n",
       "    </tr>\n",
       "    <tr>\n",
       "      <th>5</th>\n",
       "      <td>15737888</td>\n",
       "      <td>Mitchell</td>\n",
       "      <td>850</td>\n",
       "      <td>Spain</td>\n",
       "      <td>Female</td>\n",
       "      <td>43</td>\n",
       "      <td>2</td>\n",
       "      <td>125510.82</td>\n",
       "      <td>1</td>\n",
       "      <td>1</td>\n",
       "      <td>1</td>\n",
       "      <td>79084.10</td>\n",
       "      <td>0</td>\n",
       "    </tr>\n",
       "  </tbody>\n",
       "</table>\n",
       "</div>"
      ],
      "text/plain": [
       "           CustomerId   Surname  CreditScore Geography  Gender  Age  Tenure  \\\n",
       "RowNumber                                                                     \n",
       "1            15634602  Hargrave          619    France  Female   42       2   \n",
       "2            15647311      Hill          608     Spain  Female   41       1   \n",
       "3            15619304      Onio          502    France  Female   42       8   \n",
       "4            15701354      Boni          699    France  Female   39       1   \n",
       "5            15737888  Mitchell          850     Spain  Female   43       2   \n",
       "\n",
       "             Balance  NumOfProducts  HasCrCard  IsActiveMember  \\\n",
       "RowNumber                                                        \n",
       "1               0.00              1          1               1   \n",
       "2           83807.86              1          0               1   \n",
       "3          159660.80              3          1               0   \n",
       "4               0.00              2          0               0   \n",
       "5          125510.82              1          1               1   \n",
       "\n",
       "           EstimatedSalary  Exited  \n",
       "RowNumber                           \n",
       "1                101348.88       1  \n",
       "2                112542.58       0  \n",
       "3                113931.57       1  \n",
       "4                 93826.63       0  \n",
       "5                 79084.10       0  "
      ]
     },
     "execution_count": 2,
     "metadata": {},
     "output_type": "execute_result"
    }
   ],
   "source": [
    "#importing the dataset\n",
    "df = pd.read_csv('Churn_Modelling.csv', index_col='RowNumber')\n",
    "df.head()"
   ]
  },
  {
   "cell_type": "code",
   "execution_count": 3,
   "metadata": {},
   "outputs": [
    {
     "name": "stdout",
     "output_type": "stream",
     "text": [
      "All columns: ['CustomerId', 'Surname', 'CreditScore', 'Geography', 'Gender', 'Age', 'Tenure', 'Balance', 'NumOfProducts', 'HasCrCard', 'IsActiveMember', 'EstimatedSalary', 'Exited']\n",
      "\n",
      "X values: ['CreditScore', 'Geography', 'Gender', 'Age', 'Tenure', 'Balance', 'NumOfProducts', 'HasCrCard', 'IsActiveMember', 'EstimatedSalary']\n",
      "\n",
      "y values: ['Exited']\n"
     ]
    }
   ],
   "source": [
    "X_columns = df.columns.tolist()[2:12]\n",
    "y_columns = df.columns.tolist()[-1:]\n",
    "print(f'All columns: {df.columns.tolist()}')\n",
    "print()\n",
    "print(f'X values: {X_columns}')\n",
    "print()\n",
    "print(f'y values: {y_columns}')"
   ]
  },
  {
   "cell_type": "code",
   "execution_count": 4,
   "metadata": {},
   "outputs": [],
   "source": [
    "X = df[X_columns].values   # Credit Score through Estimated Salary\n",
    "y = df[y_columns].values   # Exited"
   ]
  },
  {
   "cell_type": "code",
   "execution_count": 5,
   "metadata": {},
   "outputs": [
    {
     "name": "stdout",
     "output_type": "stream",
     "text": [
      "['France' 'Spain' 'France' 'France' 'Spain' 'Spain' 'France' 'Germany'] ... will now become: \n",
      "[0 2 0 0 2 2 0 1]\n"
     ]
    }
   ],
   "source": [
    "# Encoding categorical (string based) data. Country: there are 3 options: France, Spain and Germany\n",
    "# This will convert those strings into scalar values for analysis\n",
    "\n",
    "print(X[:8,1], '... will now become: ')\n",
    "\n",
    "from sklearn.preprocessing import LabelEncoder\n",
    "label_X_country_encoder = LabelEncoder()\n",
    "X[:,1] = label_X_country_encoder.fit_transform(X[:,1])\n",
    "\n",
    "print(X[:8,1])"
   ]
  },
  {
   "cell_type": "code",
   "execution_count": 6,
   "metadata": {},
   "outputs": [
    {
     "name": "stdout",
     "output_type": "stream",
     "text": [
      "['Female' 'Female' 'Female' 'Female' 'Female' 'Male'] ... will now become: \n",
      "[0 0 0 0 0 1]\n"
     ]
    }
   ],
   "source": [
    "# We will do the same thing for gender. this will be binary in this dataset\n",
    "\n",
    "print(X[:6,2], '... will now become: ')\n",
    "\n",
    "from sklearn.preprocessing import LabelEncoder\n",
    "label_X_gender_encoder = LabelEncoder()\n",
    "X[:,2] = label_X_gender_encoder.fit_transform(X[:,2])\n",
    "\n",
    "print(X[:6,2])"
   ]
  },
  {
   "cell_type": "code",
   "execution_count": 7,
   "metadata": {},
   "outputs": [],
   "source": [
    "from sklearn.preprocessing import StandardScaler, OneHotEncoder\n",
    "from sklearn.compose import ColumnTransformer\n",
    "from sklearn.pipeline import Pipeline\n",
    "\n",
    "pipeline = Pipeline(\n",
    "    [('Categorizer', ColumnTransformer(\n",
    "         [ # Gender\n",
    "          (\"Gender Label encoder\", OneHotEncoder(categories='auto', drop='first'), [2]),\n",
    "           # Geography\n",
    "          (\"Geography One Hot\", OneHotEncoder(categories='auto', drop='first'), [1])\n",
    "         ], remainder='passthrough', n_jobs=1)),\n",
    "     # Standard Scaler for the classifier\n",
    "    ('Normalizer', StandardScaler())\n",
    "    ])"
   ]
  },
  {
   "cell_type": "code",
   "execution_count": 8,
   "metadata": {},
   "outputs": [],
   "source": [
    "X = pipeline.fit_transform(X)"
   ]
  },
  {
   "cell_type": "code",
   "execution_count": 9,
   "metadata": {},
   "outputs": [],
   "source": [
    "# Splitting the dataset into the Training and Testing set.\n",
    "\n",
    "from sklearn.model_selection import train_test_split\n",
    "X_train, X_test, y_train, y_test = train_test_split(X, y, test_size=0.2, random_state=0)"
   ]
  },
  {
   "cell_type": "code",
   "execution_count": 10,
   "metadata": {},
   "outputs": [
    {
     "name": "stdout",
     "output_type": "stream",
     "text": [
      "training shapes: (8000, 11), (8000, 1)\n",
      "testing shapes: (2000, 11), (2000, 1)\n"
     ]
    }
   ],
   "source": [
    "print(f'training shapes: {X_train.shape}, {y_train.shape}')\n",
    "print(f'testing shapes: {X_test.shape}, {y_test.shape}')"
   ]
  },
  {
   "cell_type": "code",
   "execution_count": 11,
   "metadata": {},
   "outputs": [],
   "source": [
    "from keras.models import Sequential\n",
    "from keras.layers import Dense, Dropout\n",
    "\n",
    "classifier = Sequential()"
   ]
  },
  {
   "cell_type": "code",
   "execution_count": 12,
   "metadata": {},
   "outputs": [],
   "source": [
    "# This adds the input layer (by specifying input dimension) AND the first hidden layer (units)\n",
    "classifier.add(Dense(6, activation = 'relu', input_shape = (X_train.shape[1], )))\n",
    "classifier.add(Dropout(rate=0.1))"
   ]
  },
  {
   "cell_type": "code",
   "execution_count": 13,
   "metadata": {},
   "outputs": [],
   "source": [
    "# Adding the second hidden layer\n",
    "# Notice that we do not need to specify input dim. \n",
    "classifier.add(Dense(6, activation = 'relu')) \n",
    "classifier.add(Dropout(rate=0.1)) "
   ]
  },
  {
   "cell_type": "code",
   "execution_count": 14,
   "metadata": {},
   "outputs": [],
   "source": [
    "# Adding the output layer\n",
    "# Notice that we do not need to specify input dim. \n",
    "# we have an output of 1 node, which is the the desired dimensions of our output (stay with the bank or not)\n",
    "# We use the sigmoid because we want probability outcomes\n",
    "classifier.add(Dense(1, activation = 'sigmoid'))"
   ]
  },
  {
   "cell_type": "code",
   "execution_count": 15,
   "metadata": {},
   "outputs": [
    {
     "name": "stdout",
     "output_type": "stream",
     "text": [
      "Model: \"sequential\"\n",
      "_________________________________________________________________\n",
      " Layer (type)                Output Shape              Param #   \n",
      "=================================================================\n",
      " dense (Dense)               (None, 6)                 72        \n",
      "                                                                 \n",
      " dropout (Dropout)           (None, 6)                 0         \n",
      "                                                                 \n",
      " dense_1 (Dense)             (None, 6)                 42        \n",
      "                                                                 \n",
      " dropout_1 (Dropout)         (None, 6)                 0         \n",
      "                                                                 \n",
      " dense_2 (Dense)             (None, 1)                 7         \n",
      "                                                                 \n",
      "=================================================================\n",
      "Total params: 121\n",
      "Trainable params: 121\n",
      "Non-trainable params: 0\n",
      "_________________________________________________________________\n"
     ]
    }
   ],
   "source": [
    "classifier.summary()"
   ]
  },
  {
   "cell_type": "code",
   "execution_count": 16,
   "metadata": {},
   "outputs": [],
   "source": [
    "classifier.compile(optimizer='adam', loss = 'binary_crossentropy', metrics=['accuracy'])"
   ]
  },
  {
   "cell_type": "code",
   "execution_count": 17,
   "metadata": {},
   "outputs": [
    {
     "name": "stdout",
     "output_type": "stream",
     "text": [
      "Epoch 1/200\n",
      "225/225 - 5s - loss: 0.7696 - accuracy: 0.4572 - val_loss: 0.6576 - val_accuracy: 0.7563 - 5s/epoch - 21ms/step\n",
      "Epoch 2/200\n",
      "225/225 - 0s - loss: 0.6301 - accuracy: 0.7725 - val_loss: 0.6038 - val_accuracy: 0.7937 - 226ms/epoch - 1ms/step\n",
      "Epoch 3/200\n",
      "225/225 - 0s - loss: 0.5848 - accuracy: 0.7961 - val_loss: 0.5637 - val_accuracy: 0.7950 - 256ms/epoch - 1ms/step\n",
      "Epoch 4/200\n",
      "225/225 - 0s - loss: 0.5398 - accuracy: 0.7961 - val_loss: 0.5119 - val_accuracy: 0.7950 - 211ms/epoch - 938us/step\n",
      "Epoch 5/200\n",
      "225/225 - 0s - loss: 0.4973 - accuracy: 0.7969 - val_loss: 0.4689 - val_accuracy: 0.7962 - 223ms/epoch - 991us/step\n",
      "Epoch 6/200\n",
      "225/225 - 0s - loss: 0.4617 - accuracy: 0.8057 - val_loss: 0.4322 - val_accuracy: 0.8150 - 257ms/epoch - 1ms/step\n",
      "Epoch 7/200\n",
      "225/225 - 0s - loss: 0.4383 - accuracy: 0.8201 - val_loss: 0.4098 - val_accuracy: 0.8313 - 255ms/epoch - 1ms/step\n",
      "Epoch 8/200\n",
      "225/225 - 0s - loss: 0.4277 - accuracy: 0.8247 - val_loss: 0.3995 - val_accuracy: 0.8300 - 209ms/epoch - 929us/step\n",
      "Epoch 9/200\n",
      "225/225 - 0s - loss: 0.4165 - accuracy: 0.8265 - val_loss: 0.3895 - val_accuracy: 0.8325 - 206ms/epoch - 916us/step\n",
      "Epoch 10/200\n",
      "225/225 - 0s - loss: 0.4126 - accuracy: 0.8315 - val_loss: 0.3829 - val_accuracy: 0.8413 - 210ms/epoch - 933us/step\n",
      "Epoch 11/200\n",
      "225/225 - 0s - loss: 0.4039 - accuracy: 0.8332 - val_loss: 0.3760 - val_accuracy: 0.8413 - 209ms/epoch - 929us/step\n",
      "Epoch 12/200\n",
      "225/225 - 0s - loss: 0.4007 - accuracy: 0.8333 - val_loss: 0.3713 - val_accuracy: 0.8425 - 214ms/epoch - 951us/step\n",
      "Epoch 13/200\n",
      "225/225 - 0s - loss: 0.3969 - accuracy: 0.8356 - val_loss: 0.3692 - val_accuracy: 0.8450 - 200ms/epoch - 889us/step\n",
      "Epoch 14/200\n",
      "225/225 - 0s - loss: 0.3936 - accuracy: 0.8381 - val_loss: 0.3658 - val_accuracy: 0.8462 - 211ms/epoch - 938us/step\n",
      "Epoch 15/200\n",
      "225/225 - 0s - loss: 0.3862 - accuracy: 0.8421 - val_loss: 0.3620 - val_accuracy: 0.8500 - 218ms/epoch - 969us/step\n",
      "Epoch 16/200\n",
      "225/225 - 0s - loss: 0.3912 - accuracy: 0.8351 - val_loss: 0.3606 - val_accuracy: 0.8487 - 204ms/epoch - 907us/step\n",
      "Epoch 17/200\n",
      "225/225 - 0s - loss: 0.3845 - accuracy: 0.8346 - val_loss: 0.3601 - val_accuracy: 0.8462 - 213ms/epoch - 947us/step\n",
      "Epoch 18/200\n",
      "225/225 - 0s - loss: 0.3864 - accuracy: 0.8408 - val_loss: 0.3575 - val_accuracy: 0.8487 - 219ms/epoch - 973us/step\n",
      "Epoch 19/200\n",
      "225/225 - 0s - loss: 0.3854 - accuracy: 0.8379 - val_loss: 0.3572 - val_accuracy: 0.8525 - 218ms/epoch - 969us/step\n",
      "Epoch 20/200\n",
      "225/225 - 0s - loss: 0.3794 - accuracy: 0.8413 - val_loss: 0.3529 - val_accuracy: 0.8562 - 213ms/epoch - 947us/step\n",
      "Epoch 21/200\n",
      "225/225 - 0s - loss: 0.3821 - accuracy: 0.8392 - val_loss: 0.3513 - val_accuracy: 0.8550 - 209ms/epoch - 929us/step\n",
      "Epoch 22/200\n",
      "225/225 - 0s - loss: 0.3790 - accuracy: 0.8404 - val_loss: 0.3492 - val_accuracy: 0.8525 - 228ms/epoch - 1ms/step\n",
      "Epoch 23/200\n",
      "225/225 - 0s - loss: 0.3798 - accuracy: 0.8421 - val_loss: 0.3486 - val_accuracy: 0.8525 - 233ms/epoch - 1ms/step\n",
      "Epoch 24/200\n",
      "225/225 - 0s - loss: 0.3752 - accuracy: 0.8414 - val_loss: 0.3455 - val_accuracy: 0.8575 - 214ms/epoch - 951us/step\n",
      "Epoch 25/200\n",
      "225/225 - 0s - loss: 0.3729 - accuracy: 0.8454 - val_loss: 0.3410 - val_accuracy: 0.8600 - 215ms/epoch - 956us/step\n",
      "Epoch 26/200\n",
      "225/225 - 0s - loss: 0.3718 - accuracy: 0.8413 - val_loss: 0.3422 - val_accuracy: 0.8575 - 250ms/epoch - 1ms/step\n",
      "Epoch 27/200\n",
      "225/225 - 0s - loss: 0.3711 - accuracy: 0.8465 - val_loss: 0.3383 - val_accuracy: 0.8650 - 210ms/epoch - 933us/step\n",
      "Epoch 28/200\n",
      "225/225 - 0s - loss: 0.3709 - accuracy: 0.8454 - val_loss: 0.3374 - val_accuracy: 0.8650 - 208ms/epoch - 924us/step\n",
      "Epoch 29/200\n",
      "225/225 - 0s - loss: 0.3751 - accuracy: 0.8456 - val_loss: 0.3391 - val_accuracy: 0.8600 - 220ms/epoch - 978us/step\n",
      "Epoch 30/200\n",
      "225/225 - 0s - loss: 0.3725 - accuracy: 0.8461 - val_loss: 0.3372 - val_accuracy: 0.8662 - 200ms/epoch - 889us/step\n",
      "Epoch 31/200\n",
      "225/225 - 0s - loss: 0.3704 - accuracy: 0.8428 - val_loss: 0.3361 - val_accuracy: 0.8650 - 210ms/epoch - 933us/step\n",
      "Epoch 32/200\n",
      "225/225 - 0s - loss: 0.3695 - accuracy: 0.8468 - val_loss: 0.3359 - val_accuracy: 0.8637 - 211ms/epoch - 938us/step\n",
      "Epoch 33/200\n",
      "225/225 - 0s - loss: 0.3728 - accuracy: 0.8436 - val_loss: 0.3380 - val_accuracy: 0.8562 - 208ms/epoch - 924us/step\n",
      "Epoch 34/200\n",
      "225/225 - 0s - loss: 0.3726 - accuracy: 0.8458 - val_loss: 0.3344 - val_accuracy: 0.8650 - 208ms/epoch - 924us/step\n",
      "Epoch 35/200\n",
      "225/225 - 0s - loss: 0.3683 - accuracy: 0.8464 - val_loss: 0.3369 - val_accuracy: 0.8575 - 251ms/epoch - 1ms/step\n",
      "Epoch 36/200\n",
      "225/225 - 0s - loss: 0.3685 - accuracy: 0.8454 - val_loss: 0.3343 - val_accuracy: 0.8625 - 221ms/epoch - 982us/step\n",
      "Epoch 37/200\n",
      "225/225 - 0s - loss: 0.3730 - accuracy: 0.8449 - val_loss: 0.3354 - val_accuracy: 0.8600 - 241ms/epoch - 1ms/step\n",
      "Epoch 38/200\n",
      "225/225 - 0s - loss: 0.3665 - accuracy: 0.8479 - val_loss: 0.3367 - val_accuracy: 0.8587 - 235ms/epoch - 1ms/step\n",
      "Epoch 39/200\n",
      "225/225 - 0s - loss: 0.3669 - accuracy: 0.8483 - val_loss: 0.3334 - val_accuracy: 0.8625 - 210ms/epoch - 933us/step\n",
      "Epoch 40/200\n",
      "225/225 - 0s - loss: 0.3642 - accuracy: 0.8460 - val_loss: 0.3333 - val_accuracy: 0.8625 - 212ms/epoch - 942us/step\n",
      "Epoch 41/200\n",
      "225/225 - 0s - loss: 0.3667 - accuracy: 0.8429 - val_loss: 0.3343 - val_accuracy: 0.8600 - 219ms/epoch - 973us/step\n",
      "Epoch 42/200\n",
      "225/225 - 0s - loss: 0.3663 - accuracy: 0.8460 - val_loss: 0.3314 - val_accuracy: 0.8675 - 209ms/epoch - 929us/step\n",
      "Epoch 43/200\n",
      "225/225 - 0s - loss: 0.3621 - accuracy: 0.8493 - val_loss: 0.3310 - val_accuracy: 0.8650 - 209ms/epoch - 929us/step\n",
      "Epoch 44/200\n",
      "225/225 - 0s - loss: 0.3650 - accuracy: 0.8492 - val_loss: 0.3315 - val_accuracy: 0.8675 - 236ms/epoch - 1ms/step\n",
      "Epoch 45/200\n",
      "225/225 - 0s - loss: 0.3653 - accuracy: 0.8438 - val_loss: 0.3339 - val_accuracy: 0.8612 - 247ms/epoch - 1ms/step\n",
      "Epoch 46/200\n",
      "225/225 - 0s - loss: 0.3682 - accuracy: 0.8450 - val_loss: 0.3341 - val_accuracy: 0.8587 - 248ms/epoch - 1ms/step\n",
      "Epoch 47/200\n",
      "225/225 - 0s - loss: 0.3648 - accuracy: 0.8478 - val_loss: 0.3334 - val_accuracy: 0.8625 - 223ms/epoch - 991us/step\n",
      "Epoch 48/200\n",
      "225/225 - 0s - loss: 0.3636 - accuracy: 0.8487 - val_loss: 0.3326 - val_accuracy: 0.8612 - 214ms/epoch - 951us/step\n",
      "Epoch 49/200\n",
      "225/225 - 0s - loss: 0.3653 - accuracy: 0.8458 - val_loss: 0.3298 - val_accuracy: 0.8637 - 208ms/epoch - 924us/step\n",
      "Epoch 50/200\n",
      "225/225 - 0s - loss: 0.3649 - accuracy: 0.8469 - val_loss: 0.3320 - val_accuracy: 0.8600 - 210ms/epoch - 933us/step\n",
      "Epoch 51/200\n",
      "225/225 - 0s - loss: 0.3635 - accuracy: 0.8475 - val_loss: 0.3302 - val_accuracy: 0.8600 - 210ms/epoch - 933us/step\n",
      "Epoch 52/200\n",
      "225/225 - 0s - loss: 0.3622 - accuracy: 0.8489 - val_loss: 0.3305 - val_accuracy: 0.8587 - 208ms/epoch - 924us/step\n",
      "Epoch 53/200\n",
      "225/225 - 0s - loss: 0.3616 - accuracy: 0.8487 - val_loss: 0.3288 - val_accuracy: 0.8625 - 224ms/epoch - 996us/step\n",
      "Epoch 54/200\n",
      "225/225 - 0s - loss: 0.3669 - accuracy: 0.8458 - val_loss: 0.3301 - val_accuracy: 0.8612 - 219ms/epoch - 973us/step\n",
      "Epoch 55/200\n",
      "225/225 - 0s - loss: 0.3655 - accuracy: 0.8472 - val_loss: 0.3292 - val_accuracy: 0.8650 - 210ms/epoch - 933us/step\n",
      "Epoch 56/200\n",
      "225/225 - 0s - loss: 0.3664 - accuracy: 0.8482 - val_loss: 0.3306 - val_accuracy: 0.8637 - 212ms/epoch - 942us/step\n",
      "Epoch 57/200\n",
      "225/225 - 0s - loss: 0.3650 - accuracy: 0.8510 - val_loss: 0.3312 - val_accuracy: 0.8625 - 210ms/epoch - 933us/step\n",
      "Epoch 58/200\n",
      "225/225 - 0s - loss: 0.3676 - accuracy: 0.8454 - val_loss: 0.3320 - val_accuracy: 0.8587 - 234ms/epoch - 1ms/step\n",
      "Epoch 59/200\n",
      "225/225 - 0s - loss: 0.3639 - accuracy: 0.8511 - val_loss: 0.3296 - val_accuracy: 0.8625 - 209ms/epoch - 929us/step\n",
      "Epoch 60/200\n",
      "225/225 - 0s - loss: 0.3646 - accuracy: 0.8486 - val_loss: 0.3293 - val_accuracy: 0.8600 - 233ms/epoch - 1ms/step\n",
      "Epoch 61/200\n",
      "225/225 - 0s - loss: 0.3632 - accuracy: 0.8476 - val_loss: 0.3316 - val_accuracy: 0.8600 - 212ms/epoch - 942us/step\n",
      "Epoch 62/200\n",
      "225/225 - 0s - loss: 0.3644 - accuracy: 0.8471 - val_loss: 0.3294 - val_accuracy: 0.8587 - 211ms/epoch - 938us/step\n",
      "Epoch 63/200\n",
      "225/225 - 0s - loss: 0.3657 - accuracy: 0.8456 - val_loss: 0.3286 - val_accuracy: 0.8650 - 207ms/epoch - 920us/step\n",
      "Epoch 64/200\n",
      "225/225 - 0s - loss: 0.3618 - accuracy: 0.8497 - val_loss: 0.3288 - val_accuracy: 0.8600 - 208ms/epoch - 924us/step\n"
     ]
    },
    {
     "name": "stdout",
     "output_type": "stream",
     "text": [
      "Epoch 65/200\n",
      "225/225 - 0s - loss: 0.3665 - accuracy: 0.8489 - val_loss: 0.3298 - val_accuracy: 0.8612 - 211ms/epoch - 938us/step\n",
      "Epoch 66/200\n",
      "225/225 - 0s - loss: 0.3646 - accuracy: 0.8474 - val_loss: 0.3298 - val_accuracy: 0.8612 - 211ms/epoch - 938us/step\n",
      "Epoch 67/200\n",
      "225/225 - 0s - loss: 0.3615 - accuracy: 0.8500 - val_loss: 0.3281 - val_accuracy: 0.8650 - 212ms/epoch - 942us/step\n",
      "Epoch 68/200\n",
      "225/225 - 0s - loss: 0.3637 - accuracy: 0.8493 - val_loss: 0.3296 - val_accuracy: 0.8587 - 207ms/epoch - 920us/step\n",
      "Epoch 69/200\n",
      "225/225 - 0s - loss: 0.3630 - accuracy: 0.8517 - val_loss: 0.3304 - val_accuracy: 0.8600 - 213ms/epoch - 947us/step\n",
      "Epoch 70/200\n",
      "225/225 - 0s - loss: 0.3664 - accuracy: 0.8449 - val_loss: 0.3316 - val_accuracy: 0.8562 - 203ms/epoch - 902us/step\n",
      "Epoch 71/200\n",
      "225/225 - 0s - loss: 0.3614 - accuracy: 0.8504 - val_loss: 0.3271 - val_accuracy: 0.8625 - 203ms/epoch - 902us/step\n",
      "Epoch 72/200\n",
      "225/225 - 0s - loss: 0.3647 - accuracy: 0.8476 - val_loss: 0.3286 - val_accuracy: 0.8600 - 209ms/epoch - 929us/step\n",
      "Epoch 73/200\n",
      "225/225 - 0s - loss: 0.3662 - accuracy: 0.8487 - val_loss: 0.3294 - val_accuracy: 0.8612 - 202ms/epoch - 898us/step\n",
      "Epoch 74/200\n",
      "225/225 - 0s - loss: 0.3610 - accuracy: 0.8496 - val_loss: 0.3278 - val_accuracy: 0.8625 - 204ms/epoch - 907us/step\n",
      "Epoch 75/200\n",
      "225/225 - 0s - loss: 0.3667 - accuracy: 0.8476 - val_loss: 0.3289 - val_accuracy: 0.8600 - 203ms/epoch - 902us/step\n",
      "Epoch 76/200\n",
      "225/225 - 0s - loss: 0.3653 - accuracy: 0.8485 - val_loss: 0.3281 - val_accuracy: 0.8575 - 203ms/epoch - 902us/step\n",
      "Epoch 77/200\n",
      "225/225 - 0s - loss: 0.3638 - accuracy: 0.8512 - val_loss: 0.3288 - val_accuracy: 0.8575 - 207ms/epoch - 920us/step\n",
      "Epoch 78/200\n",
      "225/225 - 0s - loss: 0.3624 - accuracy: 0.8489 - val_loss: 0.3283 - val_accuracy: 0.8612 - 201ms/epoch - 893us/step\n",
      "Epoch 79/200\n",
      "225/225 - 0s - loss: 0.3595 - accuracy: 0.8494 - val_loss: 0.3278 - val_accuracy: 0.8637 - 207ms/epoch - 920us/step\n",
      "Epoch 80/200\n",
      "225/225 - 0s - loss: 0.3597 - accuracy: 0.8508 - val_loss: 0.3274 - val_accuracy: 0.8600 - 206ms/epoch - 916us/step\n",
      "Epoch 81/200\n",
      "225/225 - 0s - loss: 0.3593 - accuracy: 0.8508 - val_loss: 0.3288 - val_accuracy: 0.8587 - 213ms/epoch - 947us/step\n",
      "Epoch 82/200\n",
      "225/225 - 0s - loss: 0.3626 - accuracy: 0.8500 - val_loss: 0.3284 - val_accuracy: 0.8587 - 245ms/epoch - 1ms/step\n",
      "Epoch 83/200\n",
      "225/225 - 0s - loss: 0.3612 - accuracy: 0.8483 - val_loss: 0.3289 - val_accuracy: 0.8625 - 253ms/epoch - 1ms/step\n",
      "Epoch 84/200\n",
      "225/225 - 0s - loss: 0.3615 - accuracy: 0.8499 - val_loss: 0.3280 - val_accuracy: 0.8600 - 210ms/epoch - 933us/step\n",
      "Epoch 85/200\n",
      "225/225 - 0s - loss: 0.3624 - accuracy: 0.8483 - val_loss: 0.3301 - val_accuracy: 0.8587 - 197ms/epoch - 876us/step\n",
      "Epoch 86/200\n",
      "225/225 - 0s - loss: 0.3654 - accuracy: 0.8478 - val_loss: 0.3298 - val_accuracy: 0.8587 - 202ms/epoch - 898us/step\n",
      "Epoch 87/200\n",
      "225/225 - 0s - loss: 0.3572 - accuracy: 0.8518 - val_loss: 0.3273 - val_accuracy: 0.8612 - 207ms/epoch - 920us/step\n",
      "Epoch 88/200\n",
      "225/225 - 0s - loss: 0.3600 - accuracy: 0.8474 - val_loss: 0.3262 - val_accuracy: 0.8637 - 207ms/epoch - 920us/step\n",
      "Epoch 89/200\n",
      "225/225 - 0s - loss: 0.3623 - accuracy: 0.8494 - val_loss: 0.3268 - val_accuracy: 0.8650 - 221ms/epoch - 982us/step\n",
      "Epoch 90/200\n",
      "225/225 - 0s - loss: 0.3586 - accuracy: 0.8510 - val_loss: 0.3259 - val_accuracy: 0.8625 - 241ms/epoch - 1ms/step\n",
      "Epoch 91/200\n",
      "225/225 - 0s - loss: 0.3654 - accuracy: 0.8497 - val_loss: 0.3269 - val_accuracy: 0.8562 - 254ms/epoch - 1ms/step\n",
      "Epoch 92/200\n",
      "225/225 - 0s - loss: 0.3590 - accuracy: 0.8497 - val_loss: 0.3261 - val_accuracy: 0.8625 - 249ms/epoch - 1ms/step\n",
      "Epoch 93/200\n",
      "225/225 - 0s - loss: 0.3657 - accuracy: 0.8464 - val_loss: 0.3296 - val_accuracy: 0.8587 - 243ms/epoch - 1ms/step\n",
      "Epoch 94/200\n",
      "225/225 - 0s - loss: 0.3590 - accuracy: 0.8514 - val_loss: 0.3278 - val_accuracy: 0.8587 - 220ms/epoch - 978us/step\n",
      "Epoch 95/200\n",
      "225/225 - 0s - loss: 0.3635 - accuracy: 0.8511 - val_loss: 0.3288 - val_accuracy: 0.8587 - 208ms/epoch - 924us/step\n",
      "Epoch 96/200\n",
      "225/225 - 0s - loss: 0.3619 - accuracy: 0.8499 - val_loss: 0.3284 - val_accuracy: 0.8587 - 231ms/epoch - 1ms/step\n",
      "Epoch 97/200\n",
      "225/225 - 0s - loss: 0.3596 - accuracy: 0.8504 - val_loss: 0.3278 - val_accuracy: 0.8612 - 251ms/epoch - 1ms/step\n",
      "Epoch 98/200\n",
      "225/225 - 0s - loss: 0.3551 - accuracy: 0.8512 - val_loss: 0.3274 - val_accuracy: 0.8562 - 246ms/epoch - 1ms/step\n",
      "Epoch 99/200\n",
      "225/225 - 0s - loss: 0.3638 - accuracy: 0.8476 - val_loss: 0.3269 - val_accuracy: 0.8637 - 242ms/epoch - 1ms/step\n",
      "Epoch 100/200\n",
      "225/225 - 0s - loss: 0.3595 - accuracy: 0.8515 - val_loss: 0.3282 - val_accuracy: 0.8600 - 253ms/epoch - 1ms/step\n",
      "Epoch 101/200\n",
      "225/225 - 0s - loss: 0.3571 - accuracy: 0.8522 - val_loss: 0.3292 - val_accuracy: 0.8600 - 244ms/epoch - 1ms/step\n",
      "Epoch 102/200\n",
      "225/225 - 0s - loss: 0.3570 - accuracy: 0.8524 - val_loss: 0.3263 - val_accuracy: 0.8612 - 227ms/epoch - 1ms/step\n",
      "Epoch 103/200\n",
      "225/225 - 0s - loss: 0.3594 - accuracy: 0.8514 - val_loss: 0.3255 - val_accuracy: 0.8625 - 215ms/epoch - 956us/step\n",
      "Epoch 104/200\n",
      "225/225 - 0s - loss: 0.3581 - accuracy: 0.8514 - val_loss: 0.3260 - val_accuracy: 0.8625 - 214ms/epoch - 951us/step\n",
      "Epoch 105/200\n",
      "225/225 - 0s - loss: 0.3625 - accuracy: 0.8518 - val_loss: 0.3254 - val_accuracy: 0.8637 - 231ms/epoch - 1ms/step\n",
      "Epoch 106/200\n",
      "225/225 - 0s - loss: 0.3611 - accuracy: 0.8543 - val_loss: 0.3265 - val_accuracy: 0.8637 - 216ms/epoch - 960us/step\n",
      "Epoch 107/200\n",
      "225/225 - 0s - loss: 0.3579 - accuracy: 0.8506 - val_loss: 0.3264 - val_accuracy: 0.8637 - 217ms/epoch - 964us/step\n",
      "Epoch 108/200\n",
      "225/225 - 0s - loss: 0.3609 - accuracy: 0.8512 - val_loss: 0.3273 - val_accuracy: 0.8637 - 217ms/epoch - 964us/step\n",
      "Epoch 109/200\n",
      "225/225 - 0s - loss: 0.3568 - accuracy: 0.8537 - val_loss: 0.3282 - val_accuracy: 0.8637 - 217ms/epoch - 964us/step\n",
      "Epoch 110/200\n",
      "225/225 - 0s - loss: 0.3626 - accuracy: 0.8496 - val_loss: 0.3286 - val_accuracy: 0.8650 - 230ms/epoch - 1ms/step\n",
      "Epoch 111/200\n",
      "225/225 - 0s - loss: 0.3600 - accuracy: 0.8511 - val_loss: 0.3262 - val_accuracy: 0.8625 - 211ms/epoch - 938us/step\n",
      "Epoch 112/200\n",
      "225/225 - 0s - loss: 0.3604 - accuracy: 0.8539 - val_loss: 0.3284 - val_accuracy: 0.8675 - 225ms/epoch - 1ms/step\n",
      "Epoch 113/200\n",
      "225/225 - 0s - loss: 0.3617 - accuracy: 0.8521 - val_loss: 0.3288 - val_accuracy: 0.8637 - 228ms/epoch - 1ms/step\n",
      "Epoch 114/200\n",
      "225/225 - 0s - loss: 0.3588 - accuracy: 0.8546 - val_loss: 0.3281 - val_accuracy: 0.8612 - 255ms/epoch - 1ms/step\n",
      "Epoch 115/200\n",
      "225/225 - 0s - loss: 0.3606 - accuracy: 0.8506 - val_loss: 0.3277 - val_accuracy: 0.8650 - 222ms/epoch - 987us/step\n",
      "Epoch 116/200\n",
      "225/225 - 0s - loss: 0.3601 - accuracy: 0.8499 - val_loss: 0.3274 - val_accuracy: 0.8600 - 227ms/epoch - 1ms/step\n",
      "Epoch 117/200\n",
      "225/225 - 0s - loss: 0.3622 - accuracy: 0.8512 - val_loss: 0.3271 - val_accuracy: 0.8625 - 250ms/epoch - 1ms/step\n",
      "Epoch 118/200\n",
      "225/225 - 0s - loss: 0.3611 - accuracy: 0.8517 - val_loss: 0.3271 - val_accuracy: 0.8600 - 222ms/epoch - 987us/step\n",
      "Epoch 119/200\n",
      "225/225 - 0s - loss: 0.3617 - accuracy: 0.8526 - val_loss: 0.3279 - val_accuracy: 0.8612 - 239ms/epoch - 1ms/step\n",
      "Epoch 120/200\n",
      "225/225 - 0s - loss: 0.3568 - accuracy: 0.8535 - val_loss: 0.3276 - val_accuracy: 0.8625 - 213ms/epoch - 947us/step\n",
      "Epoch 121/200\n",
      "225/225 - 0s - loss: 0.3572 - accuracy: 0.8518 - val_loss: 0.3267 - val_accuracy: 0.8650 - 212ms/epoch - 942us/step\n",
      "Epoch 122/200\n",
      "225/225 - 0s - loss: 0.3600 - accuracy: 0.8492 - val_loss: 0.3279 - val_accuracy: 0.8662 - 217ms/epoch - 964us/step\n",
      "Epoch 123/200\n",
      "225/225 - 0s - loss: 0.3628 - accuracy: 0.8529 - val_loss: 0.3290 - val_accuracy: 0.8662 - 217ms/epoch - 964us/step\n",
      "Epoch 124/200\n",
      "225/225 - 0s - loss: 0.3584 - accuracy: 0.8536 - val_loss: 0.3262 - val_accuracy: 0.8675 - 211ms/epoch - 938us/step\n",
      "Epoch 125/200\n",
      "225/225 - 0s - loss: 0.3588 - accuracy: 0.8525 - val_loss: 0.3280 - val_accuracy: 0.8662 - 208ms/epoch - 924us/step\n",
      "Epoch 126/200\n",
      "225/225 - 0s - loss: 0.3578 - accuracy: 0.8540 - val_loss: 0.3269 - val_accuracy: 0.8625 - 210ms/epoch - 933us/step\n",
      "Epoch 127/200\n",
      "225/225 - 0s - loss: 0.3589 - accuracy: 0.8529 - val_loss: 0.3267 - val_accuracy: 0.8612 - 214ms/epoch - 951us/step\n",
      "Epoch 128/200\n",
      "225/225 - 0s - loss: 0.3600 - accuracy: 0.8522 - val_loss: 0.3279 - val_accuracy: 0.8650 - 219ms/epoch - 973us/step\n"
     ]
    },
    {
     "name": "stdout",
     "output_type": "stream",
     "text": [
      "Epoch 129/200\n",
      "225/225 - 0s - loss: 0.3616 - accuracy: 0.8518 - val_loss: 0.3278 - val_accuracy: 0.8650 - 209ms/epoch - 929us/step\n",
      "Epoch 130/200\n",
      "225/225 - 0s - loss: 0.3594 - accuracy: 0.8546 - val_loss: 0.3269 - val_accuracy: 0.8625 - 210ms/epoch - 933us/step\n",
      "Epoch 131/200\n",
      "225/225 - 0s - loss: 0.3585 - accuracy: 0.8551 - val_loss: 0.3259 - val_accuracy: 0.8637 - 212ms/epoch - 942us/step\n",
      "Epoch 132/200\n",
      "225/225 - 0s - loss: 0.3540 - accuracy: 0.8535 - val_loss: 0.3261 - val_accuracy: 0.8675 - 210ms/epoch - 933us/step\n",
      "Epoch 133/200\n",
      "225/225 - 0s - loss: 0.3605 - accuracy: 0.8485 - val_loss: 0.3267 - val_accuracy: 0.8675 - 213ms/epoch - 947us/step\n",
      "Epoch 134/200\n",
      "225/225 - 0s - loss: 0.3625 - accuracy: 0.8533 - val_loss: 0.3269 - val_accuracy: 0.8700 - 210ms/epoch - 933us/step\n",
      "Epoch 135/200\n",
      "225/225 - 0s - loss: 0.3615 - accuracy: 0.8540 - val_loss: 0.3269 - val_accuracy: 0.8675 - 211ms/epoch - 938us/step\n",
      "Epoch 136/200\n",
      "225/225 - 0s - loss: 0.3623 - accuracy: 0.8529 - val_loss: 0.3279 - val_accuracy: 0.8675 - 208ms/epoch - 924us/step\n",
      "Epoch 137/200\n",
      "225/225 - 0s - loss: 0.3542 - accuracy: 0.8574 - val_loss: 0.3275 - val_accuracy: 0.8662 - 212ms/epoch - 942us/step\n",
      "Epoch 138/200\n",
      "225/225 - 0s - loss: 0.3572 - accuracy: 0.8537 - val_loss: 0.3246 - val_accuracy: 0.8675 - 210ms/epoch - 933us/step\n",
      "Epoch 139/200\n",
      "225/225 - 0s - loss: 0.3602 - accuracy: 0.8499 - val_loss: 0.3266 - val_accuracy: 0.8662 - 208ms/epoch - 924us/step\n",
      "Epoch 140/200\n",
      "225/225 - 0s - loss: 0.3588 - accuracy: 0.8533 - val_loss: 0.3268 - val_accuracy: 0.8650 - 207ms/epoch - 920us/step\n",
      "Epoch 141/200\n",
      "225/225 - 0s - loss: 0.3599 - accuracy: 0.8512 - val_loss: 0.3260 - val_accuracy: 0.8650 - 208ms/epoch - 924us/step\n",
      "Epoch 142/200\n",
      "225/225 - 0s - loss: 0.3546 - accuracy: 0.8547 - val_loss: 0.3268 - val_accuracy: 0.8662 - 222ms/epoch - 987us/step\n",
      "Epoch 143/200\n",
      "225/225 - 0s - loss: 0.3588 - accuracy: 0.8517 - val_loss: 0.3275 - val_accuracy: 0.8650 - 216ms/epoch - 960us/step\n",
      "Epoch 144/200\n",
      "225/225 - 0s - loss: 0.3622 - accuracy: 0.8511 - val_loss: 0.3280 - val_accuracy: 0.8687 - 209ms/epoch - 929us/step\n",
      "Epoch 145/200\n",
      "225/225 - 0s - loss: 0.3561 - accuracy: 0.8549 - val_loss: 0.3269 - val_accuracy: 0.8637 - 211ms/epoch - 938us/step\n",
      "Epoch 146/200\n",
      "225/225 - 0s - loss: 0.3571 - accuracy: 0.8549 - val_loss: 0.3285 - val_accuracy: 0.8675 - 212ms/epoch - 942us/step\n",
      "Epoch 147/200\n",
      "225/225 - 0s - loss: 0.3596 - accuracy: 0.8512 - val_loss: 0.3285 - val_accuracy: 0.8675 - 216ms/epoch - 960us/step\n",
      "Epoch 148/200\n",
      "225/225 - 0s - loss: 0.3610 - accuracy: 0.8535 - val_loss: 0.3275 - val_accuracy: 0.8650 - 211ms/epoch - 938us/step\n",
      "Epoch 149/200\n",
      "225/225 - 0s - loss: 0.3574 - accuracy: 0.8539 - val_loss: 0.3268 - val_accuracy: 0.8712 - 208ms/epoch - 924us/step\n",
      "Epoch 150/200\n",
      "225/225 - 0s - loss: 0.3614 - accuracy: 0.8508 - val_loss: 0.3284 - val_accuracy: 0.8700 - 211ms/epoch - 938us/step\n",
      "Epoch 151/200\n",
      "225/225 - 0s - loss: 0.3565 - accuracy: 0.8543 - val_loss: 0.3267 - val_accuracy: 0.8662 - 216ms/epoch - 960us/step\n",
      "Epoch 152/200\n",
      "225/225 - 0s - loss: 0.3533 - accuracy: 0.8547 - val_loss: 0.3256 - val_accuracy: 0.8662 - 211ms/epoch - 938us/step\n",
      "Epoch 153/200\n",
      "225/225 - 0s - loss: 0.3596 - accuracy: 0.8511 - val_loss: 0.3270 - val_accuracy: 0.8637 - 210ms/epoch - 933us/step\n",
      "Epoch 154/200\n",
      "225/225 - 0s - loss: 0.3658 - accuracy: 0.8485 - val_loss: 0.3302 - val_accuracy: 0.8662 - 206ms/epoch - 916us/step\n",
      "Epoch 155/200\n",
      "225/225 - 0s - loss: 0.3603 - accuracy: 0.8528 - val_loss: 0.3288 - val_accuracy: 0.8650 - 206ms/epoch - 916us/step\n",
      "Epoch 156/200\n",
      "225/225 - 0s - loss: 0.3578 - accuracy: 0.8492 - val_loss: 0.3274 - val_accuracy: 0.8675 - 219ms/epoch - 973us/step\n",
      "Epoch 157/200\n",
      "225/225 - 0s - loss: 0.3605 - accuracy: 0.8501 - val_loss: 0.3278 - val_accuracy: 0.8662 - 211ms/epoch - 938us/step\n",
      "Epoch 158/200\n",
      "225/225 - 0s - loss: 0.3612 - accuracy: 0.8497 - val_loss: 0.3273 - val_accuracy: 0.8725 - 206ms/epoch - 916us/step\n",
      "Epoch 159/200\n",
      "225/225 - 0s - loss: 0.3657 - accuracy: 0.8514 - val_loss: 0.3274 - val_accuracy: 0.8700 - 212ms/epoch - 942us/step\n",
      "Epoch 160/200\n",
      "225/225 - 0s - loss: 0.3594 - accuracy: 0.8515 - val_loss: 0.3268 - val_accuracy: 0.8650 - 209ms/epoch - 929us/step\n",
      "Epoch 161/200\n",
      "225/225 - 0s - loss: 0.3599 - accuracy: 0.8519 - val_loss: 0.3280 - val_accuracy: 0.8662 - 216ms/epoch - 960us/step\n",
      "Epoch 162/200\n",
      "225/225 - 0s - loss: 0.3559 - accuracy: 0.8535 - val_loss: 0.3262 - val_accuracy: 0.8725 - 212ms/epoch - 942us/step\n",
      "Epoch 163/200\n",
      "225/225 - 0s - loss: 0.3575 - accuracy: 0.8521 - val_loss: 0.3276 - val_accuracy: 0.8712 - 210ms/epoch - 933us/step\n",
      "Epoch 164/200\n",
      "225/225 - 0s - loss: 0.3611 - accuracy: 0.8540 - val_loss: 0.3271 - val_accuracy: 0.8687 - 207ms/epoch - 920us/step\n",
      "Epoch 165/200\n",
      "225/225 - 0s - loss: 0.3607 - accuracy: 0.8518 - val_loss: 0.3283 - val_accuracy: 0.8662 - 212ms/epoch - 942us/step\n",
      "Epoch 166/200\n",
      "225/225 - 0s - loss: 0.3599 - accuracy: 0.8535 - val_loss: 0.3267 - val_accuracy: 0.8675 - 213ms/epoch - 947us/step\n",
      "Epoch 167/200\n",
      "225/225 - 0s - loss: 0.3576 - accuracy: 0.8526 - val_loss: 0.3245 - val_accuracy: 0.8675 - 207ms/epoch - 920us/step\n",
      "Epoch 168/200\n",
      "225/225 - 0s - loss: 0.3633 - accuracy: 0.8517 - val_loss: 0.3268 - val_accuracy: 0.8675 - 212ms/epoch - 942us/step\n",
      "Epoch 169/200\n",
      "225/225 - 0s - loss: 0.3597 - accuracy: 0.8535 - val_loss: 0.3284 - val_accuracy: 0.8675 - 209ms/epoch - 929us/step\n",
      "Epoch 170/200\n",
      "225/225 - 0s - loss: 0.3591 - accuracy: 0.8517 - val_loss: 0.3273 - val_accuracy: 0.8650 - 213ms/epoch - 947us/step\n",
      "Epoch 171/200\n",
      "225/225 - 0s - loss: 0.3568 - accuracy: 0.8542 - val_loss: 0.3267 - val_accuracy: 0.8662 - 214ms/epoch - 951us/step\n",
      "Epoch 172/200\n",
      "225/225 - 0s - loss: 0.3540 - accuracy: 0.8554 - val_loss: 0.3253 - val_accuracy: 0.8700 - 206ms/epoch - 916us/step\n",
      "Epoch 173/200\n",
      "225/225 - 0s - loss: 0.3558 - accuracy: 0.8508 - val_loss: 0.3258 - val_accuracy: 0.8687 - 213ms/epoch - 947us/step\n",
      "Epoch 174/200\n",
      "225/225 - 0s - loss: 0.3611 - accuracy: 0.8546 - val_loss: 0.3270 - val_accuracy: 0.8712 - 208ms/epoch - 924us/step\n",
      "Epoch 175/200\n",
      "225/225 - 0s - loss: 0.3588 - accuracy: 0.8526 - val_loss: 0.3272 - val_accuracy: 0.8662 - 224ms/epoch - 996us/step\n",
      "Epoch 176/200\n",
      "225/225 - 0s - loss: 0.3576 - accuracy: 0.8517 - val_loss: 0.3265 - val_accuracy: 0.8712 - 208ms/epoch - 924us/step\n",
      "Epoch 177/200\n",
      "225/225 - 0s - loss: 0.3598 - accuracy: 0.8539 - val_loss: 0.3282 - val_accuracy: 0.8687 - 209ms/epoch - 929us/step\n",
      "Epoch 178/200\n",
      "225/225 - 0s - loss: 0.3596 - accuracy: 0.8499 - val_loss: 0.3272 - val_accuracy: 0.8662 - 212ms/epoch - 942us/step\n",
      "Epoch 179/200\n",
      "225/225 - 0s - loss: 0.3634 - accuracy: 0.8511 - val_loss: 0.3263 - val_accuracy: 0.8687 - 206ms/epoch - 916us/step\n",
      "Epoch 180/200\n",
      "225/225 - 0s - loss: 0.3572 - accuracy: 0.8544 - val_loss: 0.3261 - val_accuracy: 0.8675 - 210ms/epoch - 933us/step\n",
      "Epoch 181/200\n",
      "225/225 - 0s - loss: 0.3603 - accuracy: 0.8540 - val_loss: 0.3268 - val_accuracy: 0.8675 - 212ms/epoch - 942us/step\n",
      "Epoch 182/200\n",
      "225/225 - 0s - loss: 0.3574 - accuracy: 0.8533 - val_loss: 0.3269 - val_accuracy: 0.8687 - 209ms/epoch - 929us/step\n",
      "Epoch 183/200\n",
      "225/225 - 0s - loss: 0.3559 - accuracy: 0.8521 - val_loss: 0.3270 - val_accuracy: 0.8687 - 217ms/epoch - 964us/step\n",
      "Epoch 184/200\n",
      "225/225 - 0s - loss: 0.3622 - accuracy: 0.8525 - val_loss: 0.3274 - val_accuracy: 0.8675 - 210ms/epoch - 933us/step\n",
      "Epoch 185/200\n",
      "225/225 - 0s - loss: 0.3574 - accuracy: 0.8547 - val_loss: 0.3268 - val_accuracy: 0.8662 - 224ms/epoch - 996us/step\n",
      "Epoch 186/200\n",
      "225/225 - 0s - loss: 0.3603 - accuracy: 0.8504 - val_loss: 0.3279 - val_accuracy: 0.8662 - 218ms/epoch - 969us/step\n",
      "Epoch 187/200\n",
      "225/225 - 0s - loss: 0.3573 - accuracy: 0.8508 - val_loss: 0.3266 - val_accuracy: 0.8662 - 225ms/epoch - 1000us/step\n",
      "Epoch 188/200\n",
      "225/225 - 0s - loss: 0.3618 - accuracy: 0.8525 - val_loss: 0.3270 - val_accuracy: 0.8675 - 211ms/epoch - 938us/step\n",
      "Epoch 189/200\n",
      "225/225 - 0s - loss: 0.3599 - accuracy: 0.8518 - val_loss: 0.3268 - val_accuracy: 0.8725 - 212ms/epoch - 942us/step\n",
      "Epoch 190/200\n",
      "225/225 - 0s - loss: 0.3558 - accuracy: 0.8519 - val_loss: 0.3260 - val_accuracy: 0.8687 - 212ms/epoch - 942us/step\n",
      "Epoch 191/200\n",
      "225/225 - 0s - loss: 0.3584 - accuracy: 0.8510 - val_loss: 0.3272 - val_accuracy: 0.8712 - 224ms/epoch - 996us/step\n",
      "Epoch 192/200\n"
     ]
    },
    {
     "name": "stdout",
     "output_type": "stream",
     "text": [
      "225/225 - 0s - loss: 0.3600 - accuracy: 0.8500 - val_loss: 0.3276 - val_accuracy: 0.8687 - 234ms/epoch - 1ms/step\n",
      "Epoch 193/200\n",
      "225/225 - 0s - loss: 0.3597 - accuracy: 0.8522 - val_loss: 0.3271 - val_accuracy: 0.8687 - 208ms/epoch - 924us/step\n",
      "Epoch 194/200\n",
      "225/225 - 0s - loss: 0.3615 - accuracy: 0.8537 - val_loss: 0.3265 - val_accuracy: 0.8712 - 211ms/epoch - 938us/step\n",
      "Epoch 195/200\n",
      "225/225 - 0s - loss: 0.3616 - accuracy: 0.8510 - val_loss: 0.3276 - val_accuracy: 0.8662 - 215ms/epoch - 956us/step\n",
      "Epoch 196/200\n",
      "225/225 - 0s - loss: 0.3551 - accuracy: 0.8535 - val_loss: 0.3256 - val_accuracy: 0.8675 - 222ms/epoch - 987us/step\n",
      "Epoch 197/200\n",
      "225/225 - 0s - loss: 0.3570 - accuracy: 0.8524 - val_loss: 0.3265 - val_accuracy: 0.8662 - 241ms/epoch - 1ms/step\n",
      "Epoch 198/200\n",
      "225/225 - 0s - loss: 0.3601 - accuracy: 0.8550 - val_loss: 0.3277 - val_accuracy: 0.8675 - 246ms/epoch - 1ms/step\n",
      "Epoch 199/200\n",
      "225/225 - 0s - loss: 0.3567 - accuracy: 0.8557 - val_loss: 0.3277 - val_accuracy: 0.8662 - 245ms/epoch - 1ms/step\n",
      "Epoch 200/200\n",
      "225/225 - 0s - loss: 0.3612 - accuracy: 0.8515 - val_loss: 0.3274 - val_accuracy: 0.8650 - 248ms/epoch - 1ms/step\n"
     ]
    }
   ],
   "source": [
    "history = classifier.fit(X_train, y_train, batch_size=32, epochs=200, validation_split=0.1, verbose=2)"
   ]
  },
  {
   "cell_type": "code",
   "execution_count": 18,
   "metadata": {},
   "outputs": [
    {
     "data": {
      "text/plain": [
       "keras.callbacks.History"
      ]
     },
     "execution_count": 18,
     "metadata": {},
     "output_type": "execute_result"
    }
   ],
   "source": [
    "type(history)"
   ]
  },
  {
   "cell_type": "code",
   "execution_count": 19,
   "metadata": {},
   "outputs": [
    {
     "data": {
      "image/png": "[encoded data removed]",
      "text/plain": [
       "<Figure size 432x288 with 1 Axes>"
      ]
     },
     "metadata": {},
     "output_type": "display_data"
    }
   ],
   "source": [
    "plt.plot(np.array(history.history['accuracy']) * 100)\n",
    "plt.plot(np.array(history.history['val_accuracy']) * 100)\n",
    "plt.ylabel('accuracy')\n",
    "plt.xlabel('epochs')\n",
    "plt.legend(['train', 'validation'])\n",
    "plt.title('Accuracy over epochs')\n",
    "plt.show()"
   ]
  },
  {
   "cell_type": "code",
   "execution_count": 20,
   "metadata": {},
   "outputs": [
    {
     "name": "stdout",
     "output_type": "stream",
     "text": [
      "63/63 [==============================] - 0s 1000us/step\n",
      "[[0.24020605]\n",
      " [0.29757938]\n",
      " [0.17315397]\n",
      " [0.07032667]\n",
      " [0.11105511]]\n"
     ]
    }
   ],
   "source": [
    "y_pred = classifier.predict(X_test)\n",
    "print(y_pred[:5])"
   ]
  },
  {
   "cell_type": "code",
   "execution_count": 21,
   "metadata": {},
   "outputs": [
    {
     "name": "stdout",
     "output_type": "stream",
     "text": [
      "[[0]\n",
      " [0]\n",
      " [0]\n",
      " [0]\n",
      " [0]]\n"
     ]
    }
   ],
   "source": [
    "y_pred = (y_pred > 0.5).astype(int)\n",
    "print(y_pred[:5])"
   ]
  },
  {
   "cell_type": "code",
   "execution_count": 22,
   "metadata": {},
   "outputs": [
    {
     "name": "stdout",
     "output_type": "stream",
     "text": [
      "[[1552   43]\n",
      " [ 227  178]]\n"
     ]
    }
   ],
   "source": [
    "from sklearn.metrics import confusion_matrix\n",
    "cm = confusion_matrix(y_test, y_pred)\n",
    "print(cm)"
   ]
  },
  {
   "cell_type": "code",
   "execution_count": 23,
   "metadata": {},
   "outputs": [
    {
     "name": "stdout",
     "output_type": "stream",
     "text": [
      "86.5 % of testing data was classified correctly\n"
     ]
    }
   ],
   "source": [
    "print (((cm[0][0]+cm[1][1])*100)/(len(y_test)), '% of testing data was classified correctly')"
   ]
  }
 ],
 "metadata": {
  "kernelspec": {
   "display_name": "Python 3.8.9 64-bit",
   "language": "python",
   "name": "python3"
  },
  "language_info": {
   "codemirror_mode": {
    "name": "ipython",
    "version": 3
   },
   "file_extension": ".py",
   "mimetype": "text/x-python",
   "name": "python",
   "nbconvert_exporter": "python",
   "pygments_lexer": "ipython3",
   "version": "3.8.9"
  },
  "vscode": {
   "interpreter": {
    "hash": "31f2aee4e71d21fbe5cf8b01ff0e069b9275f58929596ceb00d14d90e3e16cd6"
   }
  }
 },
 "nbformat": 4,
 "nbformat_minor": 5
}
